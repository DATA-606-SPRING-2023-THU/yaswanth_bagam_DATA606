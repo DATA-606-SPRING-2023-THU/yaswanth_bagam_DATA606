{
 "cells": [
  {
   "cell_type": "markdown",
   "id": "52d249b0",
   "metadata": {},
   "source": [
    "### Importing Libraries"
   ]
  },
  {
   "cell_type": "code",
   "execution_count": 1,
   "id": "2b59752d",
   "metadata": {},
   "outputs": [],
   "source": [
    "import pandas as pd\n",
    "import matplotlib.pyplot as plt\n",
    "import seaborn as sns\n",
    "import warnings\n",
    "warnings.filterwarnings('ignore')"
   ]
  },
  {
   "cell_type": "markdown",
   "id": "ae723b60",
   "metadata": {},
   "source": [
    "### Displaying Data"
   ]
  },
  {
   "cell_type": "code",
   "execution_count": 2,
   "id": "de3530c4",
   "metadata": {},
   "outputs": [
    {
     "name": "stdout",
     "output_type": "stream",
     "text": [
      "<class 'pandas.core.frame.DataFrame'>\n",
      "RangeIndex: 438557 entries, 0 to 438556\n",
      "Data columns (total 18 columns):\n",
      " #   Column               Non-Null Count   Dtype  \n",
      "---  ------               --------------   -----  \n",
      " 0   ID                   438557 non-null  int64  \n",
      " 1   CODE_GENDER          438557 non-null  object \n",
      " 2   FLAG_OWN_CAR         438557 non-null  object \n",
      " 3   FLAG_OWN_REALTY      438557 non-null  object \n",
      " 4   CNT_CHILDREN         438557 non-null  int64  \n",
      " 5   AMT_INCOME_TOTAL     438557 non-null  float64\n",
      " 6   NAME_INCOME_TYPE     438557 non-null  object \n",
      " 7   NAME_EDUCATION_TYPE  438557 non-null  object \n",
      " 8   NAME_FAMILY_STATUS   438557 non-null  object \n",
      " 9   NAME_HOUSING_TYPE    438557 non-null  object \n",
      " 10  DAYS_BIRTH           438557 non-null  int64  \n",
      " 11  DAYS_EMPLOYED        438557 non-null  int64  \n",
      " 12  FLAG_MOBIL           438557 non-null  int64  \n",
      " 13  FLAG_WORK_PHONE      438557 non-null  int64  \n",
      " 14  FLAG_PHONE           438557 non-null  int64  \n",
      " 15  FLAG_EMAIL           438557 non-null  int64  \n",
      " 16  OCCUPATION_TYPE      304354 non-null  object \n",
      " 17  CNT_FAM_MEMBERS      438557 non-null  float64\n",
      "dtypes: float64(2), int64(8), object(8)\n",
      "memory usage: 60.2+ MB\n"
     ]
    }
   ],
   "source": [
    "application_record =pd.read_csv(\"C:\\\\Users\\\\yaswa\\\\Downloads\\\\Data 606\\\\application_record\\\\application_record.csv\")\n",
    "application_record.info()"
   ]
  },
  {
   "cell_type": "code",
   "execution_count": 3,
   "id": "b1ce1be1",
   "metadata": {},
   "outputs": [
    {
     "name": "stdout",
     "output_type": "stream",
     "text": [
      "<class 'pandas.core.frame.DataFrame'>\n",
      "RangeIndex: 1048575 entries, 0 to 1048574\n",
      "Data columns (total 3 columns):\n",
      " #   Column          Non-Null Count    Dtype \n",
      "---  ------          --------------    ----- \n",
      " 0   ID              1048575 non-null  int64 \n",
      " 1   MONTHS_BALANCE  1048575 non-null  int64 \n",
      " 2   STATUS          1048575 non-null  object\n",
      "dtypes: int64(2), object(1)\n",
      "memory usage: 24.0+ MB\n"
     ]
    }
   ],
   "source": [
    "credit_record =pd.read_csv(\"C:\\\\Users\\\\yaswa\\\\Downloads\\\\Data 606\\\\credit_record\\\\credit_record.csv\")\n",
    "credit_record.info()"
   ]
  },
  {
   "cell_type": "code",
   "execution_count": 4,
   "id": "0fe4084e",
   "metadata": {},
   "outputs": [
    {
     "data": {
      "text/plain": [
       "(438557, 18)"
      ]
     },
     "execution_count": 4,
     "metadata": {},
     "output_type": "execute_result"
    }
   ],
   "source": [
    "application_record.shape"
   ]
  },
  {
   "cell_type": "code",
   "execution_count": 5,
   "id": "a565aa5a",
   "metadata": {},
   "outputs": [
    {
     "data": {
      "text/plain": [
       "(1048575, 3)"
      ]
     },
     "execution_count": 5,
     "metadata": {},
     "output_type": "execute_result"
    }
   ],
   "source": [
    "credit_record.shape"
   ]
  },
  {
   "cell_type": "code",
   "execution_count": 6,
   "id": "c4592c71",
   "metadata": {},
   "outputs": [
    {
     "data": {
      "text/html": [
       "<div>\n",
       "<style scoped>\n",
       "    .dataframe tbody tr th:only-of-type {\n",
       "        vertical-align: middle;\n",
       "    }\n",
       "\n",
       "    .dataframe tbody tr th {\n",
       "        vertical-align: top;\n",
       "    }\n",
       "\n",
       "    .dataframe thead th {\n",
       "        text-align: right;\n",
       "    }\n",
       "</style>\n",
       "<table border=\"1\" class=\"dataframe\">\n",
       "  <thead>\n",
       "    <tr style=\"text-align: right;\">\n",
       "      <th></th>\n",
       "      <th>ID</th>\n",
       "      <th>CODE_GENDER</th>\n",
       "      <th>FLAG_OWN_CAR</th>\n",
       "      <th>FLAG_OWN_REALTY</th>\n",
       "      <th>CNT_CHILDREN</th>\n",
       "      <th>AMT_INCOME_TOTAL</th>\n",
       "      <th>NAME_INCOME_TYPE</th>\n",
       "      <th>NAME_EDUCATION_TYPE</th>\n",
       "      <th>NAME_FAMILY_STATUS</th>\n",
       "      <th>NAME_HOUSING_TYPE</th>\n",
       "      <th>DAYS_BIRTH</th>\n",
       "      <th>DAYS_EMPLOYED</th>\n",
       "      <th>FLAG_MOBIL</th>\n",
       "      <th>FLAG_WORK_PHONE</th>\n",
       "      <th>FLAG_PHONE</th>\n",
       "      <th>FLAG_EMAIL</th>\n",
       "      <th>OCCUPATION_TYPE</th>\n",
       "      <th>CNT_FAM_MEMBERS</th>\n",
       "    </tr>\n",
       "  </thead>\n",
       "  <tbody>\n",
       "    <tr>\n",
       "      <th>0</th>\n",
       "      <td>5008804</td>\n",
       "      <td>M</td>\n",
       "      <td>Y</td>\n",
       "      <td>Y</td>\n",
       "      <td>0</td>\n",
       "      <td>427500.0</td>\n",
       "      <td>Working</td>\n",
       "      <td>Higher education</td>\n",
       "      <td>Civil marriage</td>\n",
       "      <td>Rented apartment</td>\n",
       "      <td>-12005</td>\n",
       "      <td>-4542</td>\n",
       "      <td>1</td>\n",
       "      <td>1</td>\n",
       "      <td>0</td>\n",
       "      <td>0</td>\n",
       "      <td>NaN</td>\n",
       "      <td>2.0</td>\n",
       "    </tr>\n",
       "    <tr>\n",
       "      <th>1</th>\n",
       "      <td>5008805</td>\n",
       "      <td>M</td>\n",
       "      <td>Y</td>\n",
       "      <td>Y</td>\n",
       "      <td>0</td>\n",
       "      <td>427500.0</td>\n",
       "      <td>Working</td>\n",
       "      <td>Higher education</td>\n",
       "      <td>Civil marriage</td>\n",
       "      <td>Rented apartment</td>\n",
       "      <td>-12005</td>\n",
       "      <td>-4542</td>\n",
       "      <td>1</td>\n",
       "      <td>1</td>\n",
       "      <td>0</td>\n",
       "      <td>0</td>\n",
       "      <td>NaN</td>\n",
       "      <td>2.0</td>\n",
       "    </tr>\n",
       "    <tr>\n",
       "      <th>2</th>\n",
       "      <td>5008806</td>\n",
       "      <td>M</td>\n",
       "      <td>Y</td>\n",
       "      <td>Y</td>\n",
       "      <td>0</td>\n",
       "      <td>112500.0</td>\n",
       "      <td>Working</td>\n",
       "      <td>Secondary / secondary special</td>\n",
       "      <td>Married</td>\n",
       "      <td>House / apartment</td>\n",
       "      <td>-21474</td>\n",
       "      <td>-1134</td>\n",
       "      <td>1</td>\n",
       "      <td>0</td>\n",
       "      <td>0</td>\n",
       "      <td>0</td>\n",
       "      <td>Security staff</td>\n",
       "      <td>2.0</td>\n",
       "    </tr>\n",
       "    <tr>\n",
       "      <th>3</th>\n",
       "      <td>5008808</td>\n",
       "      <td>F</td>\n",
       "      <td>N</td>\n",
       "      <td>Y</td>\n",
       "      <td>0</td>\n",
       "      <td>270000.0</td>\n",
       "      <td>Commercial associate</td>\n",
       "      <td>Secondary / secondary special</td>\n",
       "      <td>Single / not married</td>\n",
       "      <td>House / apartment</td>\n",
       "      <td>-19110</td>\n",
       "      <td>-3051</td>\n",
       "      <td>1</td>\n",
       "      <td>0</td>\n",
       "      <td>1</td>\n",
       "      <td>1</td>\n",
       "      <td>Sales staff</td>\n",
       "      <td>1.0</td>\n",
       "    </tr>\n",
       "    <tr>\n",
       "      <th>4</th>\n",
       "      <td>5008809</td>\n",
       "      <td>F</td>\n",
       "      <td>N</td>\n",
       "      <td>Y</td>\n",
       "      <td>0</td>\n",
       "      <td>270000.0</td>\n",
       "      <td>Commercial associate</td>\n",
       "      <td>Secondary / secondary special</td>\n",
       "      <td>Single / not married</td>\n",
       "      <td>House / apartment</td>\n",
       "      <td>-19110</td>\n",
       "      <td>-3051</td>\n",
       "      <td>1</td>\n",
       "      <td>0</td>\n",
       "      <td>1</td>\n",
       "      <td>1</td>\n",
       "      <td>Sales staff</td>\n",
       "      <td>1.0</td>\n",
       "    </tr>\n",
       "  </tbody>\n",
       "</table>\n",
       "</div>"
      ],
      "text/plain": [
       "        ID CODE_GENDER FLAG_OWN_CAR FLAG_OWN_REALTY  CNT_CHILDREN  \\\n",
       "0  5008804           M            Y               Y             0   \n",
       "1  5008805           M            Y               Y             0   \n",
       "2  5008806           M            Y               Y             0   \n",
       "3  5008808           F            N               Y             0   \n",
       "4  5008809           F            N               Y             0   \n",
       "\n",
       "   AMT_INCOME_TOTAL      NAME_INCOME_TYPE            NAME_EDUCATION_TYPE  \\\n",
       "0          427500.0               Working               Higher education   \n",
       "1          427500.0               Working               Higher education   \n",
       "2          112500.0               Working  Secondary / secondary special   \n",
       "3          270000.0  Commercial associate  Secondary / secondary special   \n",
       "4          270000.0  Commercial associate  Secondary / secondary special   \n",
       "\n",
       "     NAME_FAMILY_STATUS  NAME_HOUSING_TYPE  DAYS_BIRTH  DAYS_EMPLOYED  \\\n",
       "0        Civil marriage   Rented apartment      -12005          -4542   \n",
       "1        Civil marriage   Rented apartment      -12005          -4542   \n",
       "2               Married  House / apartment      -21474          -1134   \n",
       "3  Single / not married  House / apartment      -19110          -3051   \n",
       "4  Single / not married  House / apartment      -19110          -3051   \n",
       "\n",
       "   FLAG_MOBIL  FLAG_WORK_PHONE  FLAG_PHONE  FLAG_EMAIL OCCUPATION_TYPE  \\\n",
       "0           1                1           0           0             NaN   \n",
       "1           1                1           0           0             NaN   \n",
       "2           1                0           0           0  Security staff   \n",
       "3           1                0           1           1     Sales staff   \n",
       "4           1                0           1           1     Sales staff   \n",
       "\n",
       "   CNT_FAM_MEMBERS  \n",
       "0              2.0  \n",
       "1              2.0  \n",
       "2              2.0  \n",
       "3              1.0  \n",
       "4              1.0  "
      ]
     },
     "execution_count": 6,
     "metadata": {},
     "output_type": "execute_result"
    }
   ],
   "source": [
    "application_record.head()"
   ]
  },
  {
   "cell_type": "code",
   "execution_count": 7,
   "id": "726f83f0",
   "metadata": {},
   "outputs": [
    {
     "data": {
      "text/html": [
       "<div>\n",
       "<style scoped>\n",
       "    .dataframe tbody tr th:only-of-type {\n",
       "        vertical-align: middle;\n",
       "    }\n",
       "\n",
       "    .dataframe tbody tr th {\n",
       "        vertical-align: top;\n",
       "    }\n",
       "\n",
       "    .dataframe thead th {\n",
       "        text-align: right;\n",
       "    }\n",
       "</style>\n",
       "<table border=\"1\" class=\"dataframe\">\n",
       "  <thead>\n",
       "    <tr style=\"text-align: right;\">\n",
       "      <th></th>\n",
       "      <th>ID</th>\n",
       "      <th>MONTHS_BALANCE</th>\n",
       "      <th>STATUS</th>\n",
       "    </tr>\n",
       "  </thead>\n",
       "  <tbody>\n",
       "    <tr>\n",
       "      <th>0</th>\n",
       "      <td>5001711</td>\n",
       "      <td>0</td>\n",
       "      <td>X</td>\n",
       "    </tr>\n",
       "    <tr>\n",
       "      <th>1</th>\n",
       "      <td>5001711</td>\n",
       "      <td>-1</td>\n",
       "      <td>0</td>\n",
       "    </tr>\n",
       "    <tr>\n",
       "      <th>2</th>\n",
       "      <td>5001711</td>\n",
       "      <td>-2</td>\n",
       "      <td>0</td>\n",
       "    </tr>\n",
       "    <tr>\n",
       "      <th>3</th>\n",
       "      <td>5001711</td>\n",
       "      <td>-3</td>\n",
       "      <td>0</td>\n",
       "    </tr>\n",
       "    <tr>\n",
       "      <th>4</th>\n",
       "      <td>5001712</td>\n",
       "      <td>0</td>\n",
       "      <td>C</td>\n",
       "    </tr>\n",
       "  </tbody>\n",
       "</table>\n",
       "</div>"
      ],
      "text/plain": [
       "        ID  MONTHS_BALANCE STATUS\n",
       "0  5001711               0      X\n",
       "1  5001711              -1      0\n",
       "2  5001711              -2      0\n",
       "3  5001711              -3      0\n",
       "4  5001712               0      C"
      ]
     },
     "execution_count": 7,
     "metadata": {},
     "output_type": "execute_result"
    }
   ],
   "source": [
    "credit_record.head()"
   ]
  },
  {
   "cell_type": "code",
   "execution_count": 8,
   "id": "3a981f37",
   "metadata": {},
   "outputs": [
    {
     "data": {
      "text/plain": [
       "ID                          0\n",
       "CODE_GENDER                 0\n",
       "FLAG_OWN_CAR                0\n",
       "FLAG_OWN_REALTY             0\n",
       "CNT_CHILDREN                0\n",
       "AMT_INCOME_TOTAL            0\n",
       "NAME_INCOME_TYPE            0\n",
       "NAME_EDUCATION_TYPE         0\n",
       "NAME_FAMILY_STATUS          0\n",
       "NAME_HOUSING_TYPE           0\n",
       "DAYS_BIRTH                  0\n",
       "DAYS_EMPLOYED               0\n",
       "FLAG_MOBIL                  0\n",
       "FLAG_WORK_PHONE             0\n",
       "FLAG_PHONE                  0\n",
       "FLAG_EMAIL                  0\n",
       "OCCUPATION_TYPE        134203\n",
       "CNT_FAM_MEMBERS             0\n",
       "dtype: int64"
      ]
     },
     "execution_count": 8,
     "metadata": {},
     "output_type": "execute_result"
    }
   ],
   "source": [
    "application_record.isnull().sum()"
   ]
  },
  {
   "cell_type": "code",
   "execution_count": 9,
   "id": "fcbc2344",
   "metadata": {},
   "outputs": [
    {
     "data": {
      "text/plain": [
       "ID                0\n",
       "MONTHS_BALANCE    0\n",
       "STATUS            0\n",
       "dtype: int64"
      ]
     },
     "execution_count": 9,
     "metadata": {},
     "output_type": "execute_result"
    }
   ],
   "source": [
    "credit_record.isnull().sum()"
   ]
  },
  {
   "cell_type": "markdown",
   "id": "81c609ed",
   "metadata": {},
   "source": [
    "### Data Cleaning"
   ]
  },
  {
   "cell_type": "code",
   "execution_count": 10,
   "id": "db74f0bf",
   "metadata": {},
   "outputs": [
    {
     "data": {
      "text/plain": [
       "array([nan, 'Security staff', 'Sales staff', 'Accountants', 'Laborers',\n",
       "       'Managers', 'Drivers', 'Core staff', 'High skill tech staff',\n",
       "       'Cleaning staff', 'Private service staff', 'Cooking staff',\n",
       "       'Low-skill Laborers', 'Medicine staff', 'Secretaries',\n",
       "       'Waiters/barmen staff', 'HR staff', 'Realty agents', 'IT staff'],\n",
       "      dtype=object)"
      ]
     },
     "execution_count": 10,
     "metadata": {},
     "output_type": "execute_result"
    }
   ],
   "source": [
    "application_record['OCCUPATION_TYPE'].unique()"
   ]
  },
  {
   "cell_type": "code",
   "execution_count": 11,
   "id": "39fa710f",
   "metadata": {},
   "outputs": [],
   "source": [
    "application_record['OCCUPATION_TYPE'].fillna('others',inplace=True)"
   ]
  },
  {
   "cell_type": "code",
   "execution_count": 12,
   "id": "78f245c8",
   "metadata": {},
   "outputs": [
    {
     "data": {
      "text/plain": [
       "array(['others', 'Security staff', 'Sales staff', 'Accountants',\n",
       "       'Laborers', 'Managers', 'Drivers', 'Core staff',\n",
       "       'High skill tech staff', 'Cleaning staff', 'Private service staff',\n",
       "       'Cooking staff', 'Low-skill Laborers', 'Medicine staff',\n",
       "       'Secretaries', 'Waiters/barmen staff', 'HR staff', 'Realty agents',\n",
       "       'IT staff'], dtype=object)"
      ]
     },
     "execution_count": 12,
     "metadata": {},
     "output_type": "execute_result"
    }
   ],
   "source": [
    "application_record['OCCUPATION_TYPE'].unique()"
   ]
  },
  {
   "cell_type": "code",
   "execution_count": 13,
   "id": "1eb923d1",
   "metadata": {},
   "outputs": [
    {
     "name": "stdout",
     "output_type": "stream",
     "text": [
      "unique values in OCCUPATION_TYPE: 19\n",
      "unique values in STATUS: 8\n",
      "unique values in NAME_INCOME_TYPE: 5\n",
      "unique values in NAME_EDUCATION_TYPE: 5\n",
      "unique values in NAME_FAMILY_STATUS: 5\n",
      "unique values in NAME_HOUSING_TYPE: 6\n"
     ]
    }
   ],
   "source": [
    "print(\"unique values in OCCUPATION_TYPE: {0}\".format(len(application_record['OCCUPATION_TYPE'].unique().tolist())))\n",
    "print(\"unique values in STATUS: {0}\".format(len(credit_record['STATUS'].unique().tolist())))\n",
    "print(\"unique values in NAME_INCOME_TYPE: {0}\".format(len(application_record['NAME_INCOME_TYPE'].unique().tolist())))\n",
    "print(\"unique values in NAME_EDUCATION_TYPE: {0}\".format(len(application_record['NAME_EDUCATION_TYPE'].unique().tolist())))\n",
    "print(\"unique values in NAME_FAMILY_STATUS: {0}\".format(len(application_record['NAME_FAMILY_STATUS'].unique().tolist())))\n",
    "print(\"unique values in NAME_HOUSING_TYPE: {0}\".format(len(application_record['NAME_HOUSING_TYPE'].unique().tolist())))"
   ]
  },
  {
   "cell_type": "code",
   "execution_count": 14,
   "id": "0e9b7b5f",
   "metadata": {},
   "outputs": [
    {
     "data": {
      "text/plain": [
       "array(['others', 'Security staff', 'Sales staff', 'Accountants',\n",
       "       'Laborers', 'Managers', 'Drivers', 'Core staff',\n",
       "       'High skill tech staff', 'Cleaning staff', 'Private service staff',\n",
       "       'Cooking staff', 'Low-skill Laborers', 'Medicine staff',\n",
       "       'Secretaries', 'Waiters/barmen staff', 'HR staff', 'Realty agents',\n",
       "       'IT staff'], dtype=object)"
      ]
     },
     "execution_count": 14,
     "metadata": {},
     "output_type": "execute_result"
    }
   ],
   "source": [
    "application_record['OCCUPATION_TYPE'].unique()"
   ]
  },
  {
   "cell_type": "code",
   "execution_count": 15,
   "id": "7709e90b",
   "metadata": {},
   "outputs": [
    {
     "data": {
      "text/plain": [
       "array(['X', '0', 'C', '1', '2', '3', '4', '5'], dtype=object)"
      ]
     },
     "execution_count": 15,
     "metadata": {},
     "output_type": "execute_result"
    }
   ],
   "source": [
    "credit_record['STATUS'].unique()"
   ]
  },
  {
   "cell_type": "code",
   "execution_count": 16,
   "id": "e873d4e9",
   "metadata": {},
   "outputs": [
    {
     "data": {
      "text/plain": [
       "array(['Working', 'Commercial associate', 'Pensioner', 'State servant',\n",
       "       'Student'], dtype=object)"
      ]
     },
     "execution_count": 16,
     "metadata": {},
     "output_type": "execute_result"
    }
   ],
   "source": [
    "application_record['NAME_INCOME_TYPE'].unique()"
   ]
  },
  {
   "cell_type": "code",
   "execution_count": 17,
   "id": "f4f5959e",
   "metadata": {},
   "outputs": [
    {
     "data": {
      "text/plain": [
       "array(['Higher education', 'Secondary / secondary special',\n",
       "       'Incomplete higher', 'Lower secondary', 'Academic degree'],\n",
       "      dtype=object)"
      ]
     },
     "execution_count": 17,
     "metadata": {},
     "output_type": "execute_result"
    }
   ],
   "source": [
    "application_record['NAME_EDUCATION_TYPE'].unique()"
   ]
  },
  {
   "cell_type": "code",
   "execution_count": 18,
   "id": "1430d204",
   "metadata": {},
   "outputs": [
    {
     "data": {
      "text/plain": [
       "array(['Civil marriage', 'Married', 'Single / not married', 'Separated',\n",
       "       'Widow'], dtype=object)"
      ]
     },
     "execution_count": 18,
     "metadata": {},
     "output_type": "execute_result"
    }
   ],
   "source": [
    "application_record['NAME_FAMILY_STATUS'].unique()"
   ]
  },
  {
   "cell_type": "code",
   "execution_count": 19,
   "id": "ba53ac32",
   "metadata": {},
   "outputs": [
    {
     "data": {
      "text/plain": [
       "array(['Rented apartment', 'House / apartment', 'Municipal apartment',\n",
       "       'With parents', 'Co-op apartment', 'Office apartment'],\n",
       "      dtype=object)"
      ]
     },
     "execution_count": 19,
     "metadata": {},
     "output_type": "execute_result"
    }
   ],
   "source": [
    "application_record['NAME_HOUSING_TYPE'].unique()"
   ]
  },
  {
   "cell_type": "code",
   "execution_count": 20,
   "id": "752a943d",
   "metadata": {},
   "outputs": [
    {
     "data": {
      "text/plain": [
       "C    442031\n",
       "0    383120\n",
       "X    209230\n",
       "1     11090\n",
       "5      1693\n",
       "2       868\n",
       "3       320\n",
       "4       223\n",
       "Name: STATUS, dtype: int64"
      ]
     },
     "execution_count": 20,
     "metadata": {},
     "output_type": "execute_result"
    }
   ],
   "source": [
    "credit_record.STATUS.value_counts()"
   ]
  },
  {
   "cell_type": "code",
   "execution_count": 21,
   "id": "fb919ad7",
   "metadata": {},
   "outputs": [
    {
     "data": {
      "text/plain": [
       "ID\n",
       "5001711     4\n",
       "5001712    19\n",
       "5001713    22\n",
       "5001714    15\n",
       "5001715    60\n",
       "           ..\n",
       "5150482    18\n",
       "5150483    18\n",
       "5150484    13\n",
       "5150485     2\n",
       "5150487    30\n",
       "Name: STATUS, Length: 45985, dtype: int64"
      ]
     },
     "execution_count": 21,
     "metadata": {},
     "output_type": "execute_result"
    }
   ],
   "source": [
    "credit_record.groupby('ID')['STATUS'].count()"
   ]
  },
  {
   "cell_type": "code",
   "execution_count": 22,
   "id": "636c027a",
   "metadata": {},
   "outputs": [
    {
     "data": {
      "text/html": [
       "<div>\n",
       "<style scoped>\n",
       "    .dataframe tbody tr th:only-of-type {\n",
       "        vertical-align: middle;\n",
       "    }\n",
       "\n",
       "    .dataframe tbody tr th {\n",
       "        vertical-align: top;\n",
       "    }\n",
       "\n",
       "    .dataframe thead th {\n",
       "        text-align: right;\n",
       "    }\n",
       "</style>\n",
       "<table border=\"1\" class=\"dataframe\">\n",
       "  <thead>\n",
       "    <tr style=\"text-align: right;\">\n",
       "      <th></th>\n",
       "      <th>ID</th>\n",
       "      <th>MONTHS_BALANCE</th>\n",
       "      <th>STATUS</th>\n",
       "    </tr>\n",
       "  </thead>\n",
       "  <tbody>\n",
       "    <tr>\n",
       "      <th>0</th>\n",
       "      <td>5001711</td>\n",
       "      <td>0</td>\n",
       "      <td>0</td>\n",
       "    </tr>\n",
       "    <tr>\n",
       "      <th>1</th>\n",
       "      <td>5001711</td>\n",
       "      <td>-1</td>\n",
       "      <td>1</td>\n",
       "    </tr>\n",
       "    <tr>\n",
       "      <th>2</th>\n",
       "      <td>5001711</td>\n",
       "      <td>-2</td>\n",
       "      <td>1</td>\n",
       "    </tr>\n",
       "    <tr>\n",
       "      <th>3</th>\n",
       "      <td>5001711</td>\n",
       "      <td>-3</td>\n",
       "      <td>1</td>\n",
       "    </tr>\n",
       "    <tr>\n",
       "      <th>4</th>\n",
       "      <td>5001712</td>\n",
       "      <td>0</td>\n",
       "      <td>2</td>\n",
       "    </tr>\n",
       "    <tr>\n",
       "      <th>...</th>\n",
       "      <td>...</td>\n",
       "      <td>...</td>\n",
       "      <td>...</td>\n",
       "    </tr>\n",
       "    <tr>\n",
       "      <th>1048570</th>\n",
       "      <td>5150487</td>\n",
       "      <td>-25</td>\n",
       "      <td>2</td>\n",
       "    </tr>\n",
       "    <tr>\n",
       "      <th>1048571</th>\n",
       "      <td>5150487</td>\n",
       "      <td>-26</td>\n",
       "      <td>2</td>\n",
       "    </tr>\n",
       "    <tr>\n",
       "      <th>1048572</th>\n",
       "      <td>5150487</td>\n",
       "      <td>-27</td>\n",
       "      <td>2</td>\n",
       "    </tr>\n",
       "    <tr>\n",
       "      <th>1048573</th>\n",
       "      <td>5150487</td>\n",
       "      <td>-28</td>\n",
       "      <td>2</td>\n",
       "    </tr>\n",
       "    <tr>\n",
       "      <th>1048574</th>\n",
       "      <td>5150487</td>\n",
       "      <td>-29</td>\n",
       "      <td>2</td>\n",
       "    </tr>\n",
       "  </tbody>\n",
       "</table>\n",
       "<p>1048575 rows × 3 columns</p>\n",
       "</div>"
      ],
      "text/plain": [
       "              ID  MONTHS_BALANCE  STATUS\n",
       "0        5001711               0       0\n",
       "1        5001711              -1       1\n",
       "2        5001711              -2       1\n",
       "3        5001711              -3       1\n",
       "4        5001712               0       2\n",
       "...          ...             ...     ...\n",
       "1048570  5150487             -25       2\n",
       "1048571  5150487             -26       2\n",
       "1048572  5150487             -27       2\n",
       "1048573  5150487             -28       2\n",
       "1048574  5150487             -29       2\n",
       "\n",
       "[1048575 rows x 3 columns]"
      ]
     },
     "execution_count": 22,
     "metadata": {},
     "output_type": "execute_result"
    }
   ],
   "source": [
    "credit_record['STATUS'], labels = pd.factorize(credit_record['STATUS'])\n",
    "credit_record"
   ]
  },
  {
   "cell_type": "code",
   "execution_count": 23,
   "id": "d83c0c67",
   "metadata": {},
   "outputs": [
    {
     "data": {
      "text/plain": [
       "Index(['X', '0', 'C', '1', '2', '3', '4', '5'], dtype='object')"
      ]
     },
     "execution_count": 23,
     "metadata": {},
     "output_type": "execute_result"
    }
   ],
   "source": [
    "labels"
   ]
  },
  {
   "cell_type": "markdown",
   "id": "995e4eda",
   "metadata": {},
   "source": [
    "- index 0 = X: No loan for the month\n",
    "\n",
    "- index 1 = 0: 1-29 days past due\n",
    "\n",
    "- index 2 = C: paid off that month\n",
    "\n",
    "- index 3 = 1: 30-59 days past due\n",
    "\n",
    "- index 4 = 2: 60-89 days overdue\n",
    "\n",
    "- index 5 = 3: 90-119 days overdue\n",
    "\n",
    "- index 6 = 4: 120-149 days overdue\n",
    "\n",
    "- index7 = 5: Overdue or bad debts, write-offs for more than 150 days"
   ]
  },
  {
   "cell_type": "code",
   "execution_count": 24,
   "id": "f365897a",
   "metadata": {},
   "outputs": [
    {
     "data": {
      "text/html": [
       "<div>\n",
       "<style scoped>\n",
       "    .dataframe tbody tr th:only-of-type {\n",
       "        vertical-align: middle;\n",
       "    }\n",
       "\n",
       "    .dataframe tbody tr th {\n",
       "        vertical-align: top;\n",
       "    }\n",
       "\n",
       "    .dataframe thead th {\n",
       "        text-align: right;\n",
       "    }\n",
       "</style>\n",
       "<table border=\"1\" class=\"dataframe\">\n",
       "  <thead>\n",
       "    <tr style=\"text-align: right;\">\n",
       "      <th></th>\n",
       "      <th>ID</th>\n",
       "      <th>MONTHS_BALANCE</th>\n",
       "      <th>STATUS</th>\n",
       "    </tr>\n",
       "  </thead>\n",
       "  <tbody>\n",
       "    <tr>\n",
       "      <th>1</th>\n",
       "      <td>5001711</td>\n",
       "      <td>-1</td>\n",
       "      <td>1</td>\n",
       "    </tr>\n",
       "    <tr>\n",
       "      <th>2</th>\n",
       "      <td>5001711</td>\n",
       "      <td>-2</td>\n",
       "      <td>1</td>\n",
       "    </tr>\n",
       "    <tr>\n",
       "      <th>3</th>\n",
       "      <td>5001711</td>\n",
       "      <td>-3</td>\n",
       "      <td>1</td>\n",
       "    </tr>\n",
       "    <tr>\n",
       "      <th>4</th>\n",
       "      <td>5001712</td>\n",
       "      <td>0</td>\n",
       "      <td>2</td>\n",
       "    </tr>\n",
       "    <tr>\n",
       "      <th>5</th>\n",
       "      <td>5001712</td>\n",
       "      <td>-1</td>\n",
       "      <td>2</td>\n",
       "    </tr>\n",
       "    <tr>\n",
       "      <th>...</th>\n",
       "      <td>...</td>\n",
       "      <td>...</td>\n",
       "      <td>...</td>\n",
       "    </tr>\n",
       "    <tr>\n",
       "      <th>1048570</th>\n",
       "      <td>5150487</td>\n",
       "      <td>-25</td>\n",
       "      <td>2</td>\n",
       "    </tr>\n",
       "    <tr>\n",
       "      <th>1048571</th>\n",
       "      <td>5150487</td>\n",
       "      <td>-26</td>\n",
       "      <td>2</td>\n",
       "    </tr>\n",
       "    <tr>\n",
       "      <th>1048572</th>\n",
       "      <td>5150487</td>\n",
       "      <td>-27</td>\n",
       "      <td>2</td>\n",
       "    </tr>\n",
       "    <tr>\n",
       "      <th>1048573</th>\n",
       "      <td>5150487</td>\n",
       "      <td>-28</td>\n",
       "      <td>2</td>\n",
       "    </tr>\n",
       "    <tr>\n",
       "      <th>1048574</th>\n",
       "      <td>5150487</td>\n",
       "      <td>-29</td>\n",
       "      <td>2</td>\n",
       "    </tr>\n",
       "  </tbody>\n",
       "</table>\n",
       "<p>839345 rows × 3 columns</p>\n",
       "</div>"
      ],
      "text/plain": [
       "              ID  MONTHS_BALANCE  STATUS\n",
       "1        5001711              -1       1\n",
       "2        5001711              -2       1\n",
       "3        5001711              -3       1\n",
       "4        5001712               0       2\n",
       "5        5001712              -1       2\n",
       "...          ...             ...     ...\n",
       "1048570  5150487             -25       2\n",
       "1048571  5150487             -26       2\n",
       "1048572  5150487             -27       2\n",
       "1048573  5150487             -28       2\n",
       "1048574  5150487             -29       2\n",
       "\n",
       "[839345 rows x 3 columns]"
      ]
     },
     "execution_count": 24,
     "metadata": {},
     "output_type": "execute_result"
    }
   ],
   "source": [
    "credit_record_clean = credit_record[credit_record['STATUS'] != 0] \n",
    "credit_record_clean"
   ]
  },
  {
   "cell_type": "code",
   "execution_count": 25,
   "id": "a5f1a853",
   "metadata": {},
   "outputs": [
    {
     "data": {
      "text/html": [
       "<div>\n",
       "<style scoped>\n",
       "    .dataframe tbody tr th:only-of-type {\n",
       "        vertical-align: middle;\n",
       "    }\n",
       "\n",
       "    .dataframe tbody tr th {\n",
       "        vertical-align: top;\n",
       "    }\n",
       "\n",
       "    .dataframe thead th {\n",
       "        text-align: right;\n",
       "    }\n",
       "</style>\n",
       "<table border=\"1\" class=\"dataframe\">\n",
       "  <thead>\n",
       "    <tr style=\"text-align: right;\">\n",
       "      <th></th>\n",
       "      <th>ID</th>\n",
       "      <th>MONTHS_BALANCE</th>\n",
       "      <th>STATUS</th>\n",
       "    </tr>\n",
       "  </thead>\n",
       "  <tbody>\n",
       "    <tr>\n",
       "      <th>1</th>\n",
       "      <td>5001711</td>\n",
       "      <td>-1</td>\n",
       "      <td>0</td>\n",
       "    </tr>\n",
       "    <tr>\n",
       "      <th>2</th>\n",
       "      <td>5001711</td>\n",
       "      <td>-2</td>\n",
       "      <td>0</td>\n",
       "    </tr>\n",
       "    <tr>\n",
       "      <th>3</th>\n",
       "      <td>5001711</td>\n",
       "      <td>-3</td>\n",
       "      <td>0</td>\n",
       "    </tr>\n",
       "    <tr>\n",
       "      <th>4</th>\n",
       "      <td>5001712</td>\n",
       "      <td>0</td>\n",
       "      <td>0</td>\n",
       "    </tr>\n",
       "    <tr>\n",
       "      <th>5</th>\n",
       "      <td>5001712</td>\n",
       "      <td>-1</td>\n",
       "      <td>0</td>\n",
       "    </tr>\n",
       "    <tr>\n",
       "      <th>...</th>\n",
       "      <td>...</td>\n",
       "      <td>...</td>\n",
       "      <td>...</td>\n",
       "    </tr>\n",
       "    <tr>\n",
       "      <th>1048570</th>\n",
       "      <td>5150487</td>\n",
       "      <td>-25</td>\n",
       "      <td>0</td>\n",
       "    </tr>\n",
       "    <tr>\n",
       "      <th>1048571</th>\n",
       "      <td>5150487</td>\n",
       "      <td>-26</td>\n",
       "      <td>0</td>\n",
       "    </tr>\n",
       "    <tr>\n",
       "      <th>1048572</th>\n",
       "      <td>5150487</td>\n",
       "      <td>-27</td>\n",
       "      <td>0</td>\n",
       "    </tr>\n",
       "    <tr>\n",
       "      <th>1048573</th>\n",
       "      <td>5150487</td>\n",
       "      <td>-28</td>\n",
       "      <td>0</td>\n",
       "    </tr>\n",
       "    <tr>\n",
       "      <th>1048574</th>\n",
       "      <td>5150487</td>\n",
       "      <td>-29</td>\n",
       "      <td>0</td>\n",
       "    </tr>\n",
       "  </tbody>\n",
       "</table>\n",
       "<p>839345 rows × 3 columns</p>\n",
       "</div>"
      ],
      "text/plain": [
       "              ID  MONTHS_BALANCE  STATUS\n",
       "1        5001711              -1       0\n",
       "2        5001711              -2       0\n",
       "3        5001711              -3       0\n",
       "4        5001712               0       0\n",
       "5        5001712              -1       0\n",
       "...          ...             ...     ...\n",
       "1048570  5150487             -25       0\n",
       "1048571  5150487             -26       0\n",
       "1048572  5150487             -27       0\n",
       "1048573  5150487             -28       0\n",
       "1048574  5150487             -29       0\n",
       "\n",
       "[839345 rows x 3 columns]"
      ]
     },
     "execution_count": 25,
     "metadata": {},
     "output_type": "execute_result"
    }
   ],
   "source": [
    "credit_record_clean['STATUS'][credit_record_clean['STATUS']>5] = 10 \n",
    "credit_record_clean['STATUS'][credit_record_clean['STATUS']<=5] = 0 \n",
    "credit_record_clean"
   ]
  },
  {
   "cell_type": "code",
   "execution_count": 26,
   "id": "96363d2b",
   "metadata": {},
   "outputs": [
    {
     "data": {
      "text/plain": [
       "STATUS\n",
       "0     837429\n",
       "10      1916\n",
       "Name: STATUS, dtype: int64"
      ]
     },
     "execution_count": 26,
     "metadata": {},
     "output_type": "execute_result"
    }
   ],
   "source": [
    "credit_record_clean.groupby('STATUS')['STATUS'].count()"
   ]
  },
  {
   "cell_type": "code",
   "execution_count": 27,
   "id": "b55e73b4",
   "metadata": {},
   "outputs": [
    {
     "data": {
      "text/html": [
       "<div>\n",
       "<style scoped>\n",
       "    .dataframe tbody tr th:only-of-type {\n",
       "        vertical-align: middle;\n",
       "    }\n",
       "\n",
       "    .dataframe tbody tr th {\n",
       "        vertical-align: top;\n",
       "    }\n",
       "\n",
       "    .dataframe thead th {\n",
       "        text-align: right;\n",
       "    }\n",
       "</style>\n",
       "<table border=\"1\" class=\"dataframe\">\n",
       "  <thead>\n",
       "    <tr style=\"text-align: right;\">\n",
       "      <th></th>\n",
       "      <th>MONTHS_BALANCE</th>\n",
       "      <th>STATUS</th>\n",
       "    </tr>\n",
       "    <tr>\n",
       "      <th>ID</th>\n",
       "      <th></th>\n",
       "      <th></th>\n",
       "    </tr>\n",
       "  </thead>\n",
       "  <tbody>\n",
       "    <tr>\n",
       "      <th>5001711</th>\n",
       "      <td>-2.000000</td>\n",
       "      <td>0.0</td>\n",
       "    </tr>\n",
       "    <tr>\n",
       "      <th>5001712</th>\n",
       "      <td>-9.000000</td>\n",
       "      <td>0.0</td>\n",
       "    </tr>\n",
       "    <tr>\n",
       "      <th>5001717</th>\n",
       "      <td>-10.500000</td>\n",
       "      <td>0.0</td>\n",
       "    </tr>\n",
       "    <tr>\n",
       "      <th>5001718</th>\n",
       "      <td>-18.724138</td>\n",
       "      <td>0.0</td>\n",
       "    </tr>\n",
       "    <tr>\n",
       "      <th>5001719</th>\n",
       "      <td>-21.000000</td>\n",
       "      <td>0.0</td>\n",
       "    </tr>\n",
       "    <tr>\n",
       "      <th>...</th>\n",
       "      <td>...</td>\n",
       "      <td>...</td>\n",
       "    </tr>\n",
       "    <tr>\n",
       "      <th>5150480</th>\n",
       "      <td>-36.500000</td>\n",
       "      <td>0.0</td>\n",
       "    </tr>\n",
       "    <tr>\n",
       "      <th>5150482</th>\n",
       "      <td>-19.500000</td>\n",
       "      <td>0.0</td>\n",
       "    </tr>\n",
       "    <tr>\n",
       "      <th>5150484</th>\n",
       "      <td>-6.000000</td>\n",
       "      <td>0.0</td>\n",
       "    </tr>\n",
       "    <tr>\n",
       "      <th>5150485</th>\n",
       "      <td>-0.500000</td>\n",
       "      <td>0.0</td>\n",
       "    </tr>\n",
       "    <tr>\n",
       "      <th>5150487</th>\n",
       "      <td>-14.500000</td>\n",
       "      <td>0.0</td>\n",
       "    </tr>\n",
       "  </tbody>\n",
       "</table>\n",
       "<p>41449 rows × 2 columns</p>\n",
       "</div>"
      ],
      "text/plain": [
       "         MONTHS_BALANCE  STATUS\n",
       "ID                             \n",
       "5001711       -2.000000     0.0\n",
       "5001712       -9.000000     0.0\n",
       "5001717      -10.500000     0.0\n",
       "5001718      -18.724138     0.0\n",
       "5001719      -21.000000     0.0\n",
       "...                 ...     ...\n",
       "5150480      -36.500000     0.0\n",
       "5150482      -19.500000     0.0\n",
       "5150484       -6.000000     0.0\n",
       "5150485       -0.500000     0.0\n",
       "5150487      -14.500000     0.0\n",
       "\n",
       "[41449 rows x 2 columns]"
      ]
     },
     "execution_count": 27,
     "metadata": {},
     "output_type": "execute_result"
    }
   ],
   "source": [
    "credit_record_c = credit_record_clean.groupby('ID').mean() \n",
    "credit_record_c"
   ]
  },
  {
   "cell_type": "code",
   "execution_count": 28,
   "id": "f1b91373",
   "metadata": {},
   "outputs": [
    {
     "data": {
      "text/html": [
       "<div>\n",
       "<style scoped>\n",
       "    .dataframe tbody tr th:only-of-type {\n",
       "        vertical-align: middle;\n",
       "    }\n",
       "\n",
       "    .dataframe tbody tr th {\n",
       "        vertical-align: top;\n",
       "    }\n",
       "\n",
       "    .dataframe thead th {\n",
       "        text-align: right;\n",
       "    }\n",
       "</style>\n",
       "<table border=\"1\" class=\"dataframe\">\n",
       "  <thead>\n",
       "    <tr style=\"text-align: right;\">\n",
       "      <th></th>\n",
       "      <th>MONTHS_BALANCE</th>\n",
       "      <th>STATUS</th>\n",
       "    </tr>\n",
       "    <tr>\n",
       "      <th>ID</th>\n",
       "      <th></th>\n",
       "      <th></th>\n",
       "    </tr>\n",
       "  </thead>\n",
       "  <tbody>\n",
       "    <tr>\n",
       "      <th>5001711</th>\n",
       "      <td>-2.000000</td>\n",
       "      <td>0.0</td>\n",
       "    </tr>\n",
       "    <tr>\n",
       "      <th>5001712</th>\n",
       "      <td>-9.000000</td>\n",
       "      <td>0.0</td>\n",
       "    </tr>\n",
       "    <tr>\n",
       "      <th>5001717</th>\n",
       "      <td>-10.500000</td>\n",
       "      <td>0.0</td>\n",
       "    </tr>\n",
       "    <tr>\n",
       "      <th>5001718</th>\n",
       "      <td>-18.724138</td>\n",
       "      <td>0.0</td>\n",
       "    </tr>\n",
       "    <tr>\n",
       "      <th>5001719</th>\n",
       "      <td>-21.000000</td>\n",
       "      <td>0.0</td>\n",
       "    </tr>\n",
       "    <tr>\n",
       "      <th>...</th>\n",
       "      <td>...</td>\n",
       "      <td>...</td>\n",
       "    </tr>\n",
       "    <tr>\n",
       "      <th>5150480</th>\n",
       "      <td>-36.500000</td>\n",
       "      <td>0.0</td>\n",
       "    </tr>\n",
       "    <tr>\n",
       "      <th>5150482</th>\n",
       "      <td>-19.500000</td>\n",
       "      <td>0.0</td>\n",
       "    </tr>\n",
       "    <tr>\n",
       "      <th>5150484</th>\n",
       "      <td>-6.000000</td>\n",
       "      <td>0.0</td>\n",
       "    </tr>\n",
       "    <tr>\n",
       "      <th>5150485</th>\n",
       "      <td>-0.500000</td>\n",
       "      <td>0.0</td>\n",
       "    </tr>\n",
       "    <tr>\n",
       "      <th>5150487</th>\n",
       "      <td>-14.500000</td>\n",
       "      <td>0.0</td>\n",
       "    </tr>\n",
       "  </tbody>\n",
       "</table>\n",
       "<p>41449 rows × 2 columns</p>\n",
       "</div>"
      ],
      "text/plain": [
       "         MONTHS_BALANCE  STATUS\n",
       "ID                             \n",
       "5001711       -2.000000     0.0\n",
       "5001712       -9.000000     0.0\n",
       "5001717      -10.500000     0.0\n",
       "5001718      -18.724138     0.0\n",
       "5001719      -21.000000     0.0\n",
       "...                 ...     ...\n",
       "5150480      -36.500000     0.0\n",
       "5150482      -19.500000     0.0\n",
       "5150484       -6.000000     0.0\n",
       "5150485       -0.500000     0.0\n",
       "5150487      -14.500000     0.0\n",
       "\n",
       "[41449 rows x 2 columns]"
      ]
     },
     "execution_count": 28,
     "metadata": {},
     "output_type": "execute_result"
    }
   ],
   "source": [
    "credit_record_c['STATUS'][credit_record_c['STATUS'] > 0 ] = 1 #ID bad debt = 1\n",
    "credit_record_c['STATUS'][credit_record_c['STATUS'] <= 0 ] = 0 #ID good debt = 0\n",
    "credit_record_c"
   ]
  },
  {
   "cell_type": "code",
   "execution_count": 29,
   "id": "4ed5438f",
   "metadata": {},
   "outputs": [
    {
     "data": {
      "text/plain": [
       "ID\n",
       "5001711    1\n",
       "5001712    1\n",
       "5001717    1\n",
       "5001718    1\n",
       "5001719    1\n",
       "          ..\n",
       "5150480    1\n",
       "5150482    1\n",
       "5150484    1\n",
       "5150485    1\n",
       "5150487    1\n",
       "Name: STATUS, Length: 41449, dtype: int64"
      ]
     },
     "execution_count": 29,
     "metadata": {},
     "output_type": "execute_result"
    }
   ],
   "source": [
    "credit_record_c.groupby('ID')['STATUS'].count() "
   ]
  },
  {
   "cell_type": "code",
   "execution_count": 30,
   "id": "d1c6a5f1",
   "metadata": {},
   "outputs": [
    {
     "data": {
      "text/plain": [
       "STATUS\n",
       "0.0    41206\n",
       "1.0      243\n",
       "Name: STATUS, dtype: int64"
      ]
     },
     "execution_count": 30,
     "metadata": {},
     "output_type": "execute_result"
    }
   ],
   "source": [
    "credit_record_c.groupby('STATUS')['STATUS'].count()"
   ]
  },
  {
   "cell_type": "markdown",
   "id": "48081def",
   "metadata": {},
   "source": [
    "### Merging Two datasets"
   ]
  },
  {
   "cell_type": "code",
   "execution_count": 31,
   "id": "955b6f82",
   "metadata": {},
   "outputs": [],
   "source": [
    "df=pd.merge(application_record,credit_record_c,on='ID')"
   ]
  },
  {
   "cell_type": "code",
   "execution_count": 32,
   "id": "6d736ccf",
   "metadata": {
    "scrolled": true
   },
   "outputs": [
    {
     "data": {
      "text/html": [
       "<div>\n",
       "<style scoped>\n",
       "    .dataframe tbody tr th:only-of-type {\n",
       "        vertical-align: middle;\n",
       "    }\n",
       "\n",
       "    .dataframe tbody tr th {\n",
       "        vertical-align: top;\n",
       "    }\n",
       "\n",
       "    .dataframe thead th {\n",
       "        text-align: right;\n",
       "    }\n",
       "</style>\n",
       "<table border=\"1\" class=\"dataframe\">\n",
       "  <thead>\n",
       "    <tr style=\"text-align: right;\">\n",
       "      <th></th>\n",
       "      <th>ID</th>\n",
       "      <th>CODE_GENDER</th>\n",
       "      <th>FLAG_OWN_CAR</th>\n",
       "      <th>FLAG_OWN_REALTY</th>\n",
       "      <th>CNT_CHILDREN</th>\n",
       "      <th>AMT_INCOME_TOTAL</th>\n",
       "      <th>NAME_INCOME_TYPE</th>\n",
       "      <th>NAME_EDUCATION_TYPE</th>\n",
       "      <th>NAME_FAMILY_STATUS</th>\n",
       "      <th>NAME_HOUSING_TYPE</th>\n",
       "      <th>DAYS_BIRTH</th>\n",
       "      <th>DAYS_EMPLOYED</th>\n",
       "      <th>FLAG_MOBIL</th>\n",
       "      <th>FLAG_WORK_PHONE</th>\n",
       "      <th>FLAG_PHONE</th>\n",
       "      <th>FLAG_EMAIL</th>\n",
       "      <th>OCCUPATION_TYPE</th>\n",
       "      <th>CNT_FAM_MEMBERS</th>\n",
       "      <th>MONTHS_BALANCE</th>\n",
       "      <th>STATUS</th>\n",
       "    </tr>\n",
       "  </thead>\n",
       "  <tbody>\n",
       "    <tr>\n",
       "      <th>0</th>\n",
       "      <td>5008804</td>\n",
       "      <td>M</td>\n",
       "      <td>Y</td>\n",
       "      <td>Y</td>\n",
       "      <td>0</td>\n",
       "      <td>427500.0</td>\n",
       "      <td>Working</td>\n",
       "      <td>Higher education</td>\n",
       "      <td>Civil marriage</td>\n",
       "      <td>Rented apartment</td>\n",
       "      <td>-12005</td>\n",
       "      <td>-4542</td>\n",
       "      <td>1</td>\n",
       "      <td>1</td>\n",
       "      <td>0</td>\n",
       "      <td>0</td>\n",
       "      <td>others</td>\n",
       "      <td>2.0</td>\n",
       "      <td>-7.000000</td>\n",
       "      <td>0.0</td>\n",
       "    </tr>\n",
       "    <tr>\n",
       "      <th>1</th>\n",
       "      <td>5008805</td>\n",
       "      <td>M</td>\n",
       "      <td>Y</td>\n",
       "      <td>Y</td>\n",
       "      <td>0</td>\n",
       "      <td>427500.0</td>\n",
       "      <td>Working</td>\n",
       "      <td>Higher education</td>\n",
       "      <td>Civil marriage</td>\n",
       "      <td>Rented apartment</td>\n",
       "      <td>-12005</td>\n",
       "      <td>-4542</td>\n",
       "      <td>1</td>\n",
       "      <td>1</td>\n",
       "      <td>0</td>\n",
       "      <td>0</td>\n",
       "      <td>others</td>\n",
       "      <td>2.0</td>\n",
       "      <td>-6.500000</td>\n",
       "      <td>0.0</td>\n",
       "    </tr>\n",
       "    <tr>\n",
       "      <th>2</th>\n",
       "      <td>5008806</td>\n",
       "      <td>M</td>\n",
       "      <td>Y</td>\n",
       "      <td>Y</td>\n",
       "      <td>0</td>\n",
       "      <td>112500.0</td>\n",
       "      <td>Working</td>\n",
       "      <td>Secondary / secondary special</td>\n",
       "      <td>Married</td>\n",
       "      <td>House / apartment</td>\n",
       "      <td>-21474</td>\n",
       "      <td>-1134</td>\n",
       "      <td>1</td>\n",
       "      <td>0</td>\n",
       "      <td>0</td>\n",
       "      <td>0</td>\n",
       "      <td>Security staff</td>\n",
       "      <td>2.0</td>\n",
       "      <td>-9.571429</td>\n",
       "      <td>0.0</td>\n",
       "    </tr>\n",
       "    <tr>\n",
       "      <th>3</th>\n",
       "      <td>5008808</td>\n",
       "      <td>F</td>\n",
       "      <td>N</td>\n",
       "      <td>Y</td>\n",
       "      <td>0</td>\n",
       "      <td>270000.0</td>\n",
       "      <td>Commercial associate</td>\n",
       "      <td>Secondary / secondary special</td>\n",
       "      <td>Single / not married</td>\n",
       "      <td>House / apartment</td>\n",
       "      <td>-19110</td>\n",
       "      <td>-3051</td>\n",
       "      <td>1</td>\n",
       "      <td>0</td>\n",
       "      <td>1</td>\n",
       "      <td>1</td>\n",
       "      <td>Sales staff</td>\n",
       "      <td>1.0</td>\n",
       "      <td>-1.000000</td>\n",
       "      <td>0.0</td>\n",
       "    </tr>\n",
       "    <tr>\n",
       "      <th>4</th>\n",
       "      <td>5008810</td>\n",
       "      <td>F</td>\n",
       "      <td>N</td>\n",
       "      <td>Y</td>\n",
       "      <td>0</td>\n",
       "      <td>270000.0</td>\n",
       "      <td>Commercial associate</td>\n",
       "      <td>Secondary / secondary special</td>\n",
       "      <td>Single / not married</td>\n",
       "      <td>House / apartment</td>\n",
       "      <td>-19110</td>\n",
       "      <td>-3051</td>\n",
       "      <td>1</td>\n",
       "      <td>0</td>\n",
       "      <td>1</td>\n",
       "      <td>1</td>\n",
       "      <td>Sales staff</td>\n",
       "      <td>1.0</td>\n",
       "      <td>-10.761905</td>\n",
       "      <td>0.0</td>\n",
       "    </tr>\n",
       "  </tbody>\n",
       "</table>\n",
       "</div>"
      ],
      "text/plain": [
       "        ID CODE_GENDER FLAG_OWN_CAR FLAG_OWN_REALTY  CNT_CHILDREN  \\\n",
       "0  5008804           M            Y               Y             0   \n",
       "1  5008805           M            Y               Y             0   \n",
       "2  5008806           M            Y               Y             0   \n",
       "3  5008808           F            N               Y             0   \n",
       "4  5008810           F            N               Y             0   \n",
       "\n",
       "   AMT_INCOME_TOTAL      NAME_INCOME_TYPE            NAME_EDUCATION_TYPE  \\\n",
       "0          427500.0               Working               Higher education   \n",
       "1          427500.0               Working               Higher education   \n",
       "2          112500.0               Working  Secondary / secondary special   \n",
       "3          270000.0  Commercial associate  Secondary / secondary special   \n",
       "4          270000.0  Commercial associate  Secondary / secondary special   \n",
       "\n",
       "     NAME_FAMILY_STATUS  NAME_HOUSING_TYPE  DAYS_BIRTH  DAYS_EMPLOYED  \\\n",
       "0        Civil marriage   Rented apartment      -12005          -4542   \n",
       "1        Civil marriage   Rented apartment      -12005          -4542   \n",
       "2               Married  House / apartment      -21474          -1134   \n",
       "3  Single / not married  House / apartment      -19110          -3051   \n",
       "4  Single / not married  House / apartment      -19110          -3051   \n",
       "\n",
       "   FLAG_MOBIL  FLAG_WORK_PHONE  FLAG_PHONE  FLAG_EMAIL OCCUPATION_TYPE  \\\n",
       "0           1                1           0           0          others   \n",
       "1           1                1           0           0          others   \n",
       "2           1                0           0           0  Security staff   \n",
       "3           1                0           1           1     Sales staff   \n",
       "4           1                0           1           1     Sales staff   \n",
       "\n",
       "   CNT_FAM_MEMBERS  MONTHS_BALANCE  STATUS  \n",
       "0              2.0       -7.000000     0.0  \n",
       "1              2.0       -6.500000     0.0  \n",
       "2              2.0       -9.571429     0.0  \n",
       "3              1.0       -1.000000     0.0  \n",
       "4              1.0      -10.761905     0.0  "
      ]
     },
     "execution_count": 32,
     "metadata": {},
     "output_type": "execute_result"
    }
   ],
   "source": [
    "df.head()"
   ]
  },
  {
   "cell_type": "code",
   "execution_count": 33,
   "id": "f8a56431",
   "metadata": {},
   "outputs": [
    {
     "name": "stdout",
     "output_type": "stream",
     "text": [
      "<class 'pandas.core.frame.DataFrame'>\n",
      "Int64Index: 33110 entries, 0 to 33109\n",
      "Data columns (total 20 columns):\n",
      " #   Column               Non-Null Count  Dtype  \n",
      "---  ------               --------------  -----  \n",
      " 0   ID                   33110 non-null  int64  \n",
      " 1   CODE_GENDER          33110 non-null  object \n",
      " 2   FLAG_OWN_CAR         33110 non-null  object \n",
      " 3   FLAG_OWN_REALTY      33110 non-null  object \n",
      " 4   CNT_CHILDREN         33110 non-null  int64  \n",
      " 5   AMT_INCOME_TOTAL     33110 non-null  float64\n",
      " 6   NAME_INCOME_TYPE     33110 non-null  object \n",
      " 7   NAME_EDUCATION_TYPE  33110 non-null  object \n",
      " 8   NAME_FAMILY_STATUS   33110 non-null  object \n",
      " 9   NAME_HOUSING_TYPE    33110 non-null  object \n",
      " 10  DAYS_BIRTH           33110 non-null  int64  \n",
      " 11  DAYS_EMPLOYED        33110 non-null  int64  \n",
      " 12  FLAG_MOBIL           33110 non-null  int64  \n",
      " 13  FLAG_WORK_PHONE      33110 non-null  int64  \n",
      " 14  FLAG_PHONE           33110 non-null  int64  \n",
      " 15  FLAG_EMAIL           33110 non-null  int64  \n",
      " 16  OCCUPATION_TYPE      33110 non-null  object \n",
      " 17  CNT_FAM_MEMBERS      33110 non-null  float64\n",
      " 18  MONTHS_BALANCE       33110 non-null  float64\n",
      " 19  STATUS               33110 non-null  float64\n",
      "dtypes: float64(4), int64(8), object(8)\n",
      "memory usage: 5.3+ MB\n"
     ]
    }
   ],
   "source": [
    "df.info()"
   ]
  },
  {
   "cell_type": "code",
   "execution_count": 34,
   "id": "f56faecc",
   "metadata": {},
   "outputs": [
    {
     "data": {
      "text/plain": [
       "(33110, 20)"
      ]
     },
     "execution_count": 34,
     "metadata": {},
     "output_type": "execute_result"
    }
   ],
   "source": [
    "df.shape"
   ]
  },
  {
   "cell_type": "code",
   "execution_count": 35,
   "id": "eaca7008",
   "metadata": {},
   "outputs": [
    {
     "data": {
      "text/html": [
       "<div>\n",
       "<style scoped>\n",
       "    .dataframe tbody tr th:only-of-type {\n",
       "        vertical-align: middle;\n",
       "    }\n",
       "\n",
       "    .dataframe tbody tr th {\n",
       "        vertical-align: top;\n",
       "    }\n",
       "\n",
       "    .dataframe thead th {\n",
       "        text-align: right;\n",
       "    }\n",
       "</style>\n",
       "<table border=\"1\" class=\"dataframe\">\n",
       "  <thead>\n",
       "    <tr style=\"text-align: right;\">\n",
       "      <th></th>\n",
       "      <th>ID</th>\n",
       "      <th>CNT_CHILDREN</th>\n",
       "      <th>AMT_INCOME_TOTAL</th>\n",
       "      <th>DAYS_BIRTH</th>\n",
       "      <th>DAYS_EMPLOYED</th>\n",
       "      <th>FLAG_MOBIL</th>\n",
       "      <th>FLAG_WORK_PHONE</th>\n",
       "      <th>FLAG_PHONE</th>\n",
       "      <th>FLAG_EMAIL</th>\n",
       "      <th>CNT_FAM_MEMBERS</th>\n",
       "      <th>MONTHS_BALANCE</th>\n",
       "      <th>STATUS</th>\n",
       "    </tr>\n",
       "  </thead>\n",
       "  <tbody>\n",
       "    <tr>\n",
       "      <th>count</th>\n",
       "      <td>3.311000e+04</td>\n",
       "      <td>33110.000000</td>\n",
       "      <td>3.311000e+04</td>\n",
       "      <td>33110.000000</td>\n",
       "      <td>33110.000000</td>\n",
       "      <td>33110.0</td>\n",
       "      <td>33110.000000</td>\n",
       "      <td>33110.000000</td>\n",
       "      <td>33110.000000</td>\n",
       "      <td>33110.000000</td>\n",
       "      <td>33110.000000</td>\n",
       "      <td>33110.000000</td>\n",
       "    </tr>\n",
       "    <tr>\n",
       "      <th>mean</th>\n",
       "      <td>5.078015e+06</td>\n",
       "      <td>0.427756</td>\n",
       "      <td>1.858772e+05</td>\n",
       "      <td>-16007.262489</td>\n",
       "      <td>60031.029085</td>\n",
       "      <td>1.0</td>\n",
       "      <td>0.224011</td>\n",
       "      <td>0.292419</td>\n",
       "      <td>0.090396</td>\n",
       "      <td>2.194654</td>\n",
       "      <td>-16.004259</td>\n",
       "      <td>0.006826</td>\n",
       "    </tr>\n",
       "    <tr>\n",
       "      <th>std</th>\n",
       "      <td>4.187679e+04</td>\n",
       "      <td>0.741716</td>\n",
       "      <td>1.014124e+05</td>\n",
       "      <td>4213.387673</td>\n",
       "      <td>138345.184712</td>\n",
       "      <td>0.0</td>\n",
       "      <td>0.416936</td>\n",
       "      <td>0.454881</td>\n",
       "      <td>0.286752</td>\n",
       "      <td>0.911076</td>\n",
       "      <td>12.298616</td>\n",
       "      <td>0.082337</td>\n",
       "    </tr>\n",
       "    <tr>\n",
       "      <th>min</th>\n",
       "      <td>5.008804e+06</td>\n",
       "      <td>0.000000</td>\n",
       "      <td>2.700000e+04</td>\n",
       "      <td>-25152.000000</td>\n",
       "      <td>-15713.000000</td>\n",
       "      <td>1.0</td>\n",
       "      <td>0.000000</td>\n",
       "      <td>0.000000</td>\n",
       "      <td>0.000000</td>\n",
       "      <td>1.000000</td>\n",
       "      <td>-60.000000</td>\n",
       "      <td>0.000000</td>\n",
       "    </tr>\n",
       "    <tr>\n",
       "      <th>25%</th>\n",
       "      <td>5.041983e+06</td>\n",
       "      <td>0.000000</td>\n",
       "      <td>1.215000e+05</td>\n",
       "      <td>-19495.000000</td>\n",
       "      <td>-3159.000000</td>\n",
       "      <td>1.0</td>\n",
       "      <td>0.000000</td>\n",
       "      <td>0.000000</td>\n",
       "      <td>0.000000</td>\n",
       "      <td>2.000000</td>\n",
       "      <td>-23.000000</td>\n",
       "      <td>0.000000</td>\n",
       "    </tr>\n",
       "    <tr>\n",
       "      <th>50%</th>\n",
       "      <td>5.069441e+06</td>\n",
       "      <td>0.000000</td>\n",
       "      <td>1.575000e+05</td>\n",
       "      <td>-15646.000000</td>\n",
       "      <td>-1552.000000</td>\n",
       "      <td>1.0</td>\n",
       "      <td>0.000000</td>\n",
       "      <td>0.000000</td>\n",
       "      <td>0.000000</td>\n",
       "      <td>2.000000</td>\n",
       "      <td>-13.500000</td>\n",
       "      <td>0.000000</td>\n",
       "    </tr>\n",
       "    <tr>\n",
       "      <th>75%</th>\n",
       "      <td>5.114633e+06</td>\n",
       "      <td>1.000000</td>\n",
       "      <td>2.250000e+05</td>\n",
       "      <td>-12461.000000</td>\n",
       "      <td>-405.000000</td>\n",
       "      <td>1.0</td>\n",
       "      <td>0.000000</td>\n",
       "      <td>1.000000</td>\n",
       "      <td>0.000000</td>\n",
       "      <td>3.000000</td>\n",
       "      <td>-6.000000</td>\n",
       "      <td>0.000000</td>\n",
       "    </tr>\n",
       "    <tr>\n",
       "      <th>max</th>\n",
       "      <td>5.150487e+06</td>\n",
       "      <td>19.000000</td>\n",
       "      <td>1.575000e+06</td>\n",
       "      <td>-7705.000000</td>\n",
       "      <td>365243.000000</td>\n",
       "      <td>1.0</td>\n",
       "      <td>1.000000</td>\n",
       "      <td>1.000000</td>\n",
       "      <td>1.000000</td>\n",
       "      <td>20.000000</td>\n",
       "      <td>0.000000</td>\n",
       "      <td>1.000000</td>\n",
       "    </tr>\n",
       "  </tbody>\n",
       "</table>\n",
       "</div>"
      ],
      "text/plain": [
       "                 ID  CNT_CHILDREN  AMT_INCOME_TOTAL    DAYS_BIRTH  \\\n",
       "count  3.311000e+04  33110.000000      3.311000e+04  33110.000000   \n",
       "mean   5.078015e+06      0.427756      1.858772e+05 -16007.262489   \n",
       "std    4.187679e+04      0.741716      1.014124e+05   4213.387673   \n",
       "min    5.008804e+06      0.000000      2.700000e+04 -25152.000000   \n",
       "25%    5.041983e+06      0.000000      1.215000e+05 -19495.000000   \n",
       "50%    5.069441e+06      0.000000      1.575000e+05 -15646.000000   \n",
       "75%    5.114633e+06      1.000000      2.250000e+05 -12461.000000   \n",
       "max    5.150487e+06     19.000000      1.575000e+06  -7705.000000   \n",
       "\n",
       "       DAYS_EMPLOYED  FLAG_MOBIL  FLAG_WORK_PHONE    FLAG_PHONE    FLAG_EMAIL  \\\n",
       "count   33110.000000     33110.0     33110.000000  33110.000000  33110.000000   \n",
       "mean    60031.029085         1.0         0.224011      0.292419      0.090396   \n",
       "std    138345.184712         0.0         0.416936      0.454881      0.286752   \n",
       "min    -15713.000000         1.0         0.000000      0.000000      0.000000   \n",
       "25%     -3159.000000         1.0         0.000000      0.000000      0.000000   \n",
       "50%     -1552.000000         1.0         0.000000      0.000000      0.000000   \n",
       "75%      -405.000000         1.0         0.000000      1.000000      0.000000   \n",
       "max    365243.000000         1.0         1.000000      1.000000      1.000000   \n",
       "\n",
       "       CNT_FAM_MEMBERS  MONTHS_BALANCE        STATUS  \n",
       "count     33110.000000    33110.000000  33110.000000  \n",
       "mean          2.194654      -16.004259      0.006826  \n",
       "std           0.911076       12.298616      0.082337  \n",
       "min           1.000000      -60.000000      0.000000  \n",
       "25%           2.000000      -23.000000      0.000000  \n",
       "50%           2.000000      -13.500000      0.000000  \n",
       "75%           3.000000       -6.000000      0.000000  \n",
       "max          20.000000        0.000000      1.000000  "
      ]
     },
     "execution_count": 35,
     "metadata": {},
     "output_type": "execute_result"
    }
   ],
   "source": [
    "df.describe()"
   ]
  },
  {
   "cell_type": "code",
   "execution_count": 36,
   "id": "824f790f",
   "metadata": {},
   "outputs": [
    {
     "data": {
      "text/html": [
       "<div>\n",
       "<style scoped>\n",
       "    .dataframe tbody tr th:only-of-type {\n",
       "        vertical-align: middle;\n",
       "    }\n",
       "\n",
       "    .dataframe tbody tr th {\n",
       "        vertical-align: top;\n",
       "    }\n",
       "\n",
       "    .dataframe thead th {\n",
       "        text-align: right;\n",
       "    }\n",
       "</style>\n",
       "<table border=\"1\" class=\"dataframe\">\n",
       "  <thead>\n",
       "    <tr style=\"text-align: right;\">\n",
       "      <th></th>\n",
       "      <th>ID</th>\n",
       "      <th>CNT_CHILDREN</th>\n",
       "      <th>AMT_INCOME_TOTAL</th>\n",
       "      <th>DAYS_BIRTH</th>\n",
       "      <th>DAYS_EMPLOYED</th>\n",
       "      <th>FLAG_MOBIL</th>\n",
       "      <th>FLAG_WORK_PHONE</th>\n",
       "      <th>FLAG_PHONE</th>\n",
       "      <th>FLAG_EMAIL</th>\n",
       "      <th>CNT_FAM_MEMBERS</th>\n",
       "      <th>MONTHS_BALANCE</th>\n",
       "      <th>STATUS</th>\n",
       "    </tr>\n",
       "  </thead>\n",
       "  <tbody>\n",
       "    <tr>\n",
       "      <th>ID</th>\n",
       "      <td>1.000000</td>\n",
       "      <td>0.026094</td>\n",
       "      <td>-0.012722</td>\n",
       "      <td>0.053936</td>\n",
       "      <td>-0.038049</td>\n",
       "      <td>NaN</td>\n",
       "      <td>0.080844</td>\n",
       "      <td>0.013876</td>\n",
       "      <td>-0.047297</td>\n",
       "      <td>0.022572</td>\n",
       "      <td>0.015520</td>\n",
       "      <td>0.013422</td>\n",
       "    </tr>\n",
       "    <tr>\n",
       "      <th>CNT_CHILDREN</th>\n",
       "      <td>0.026094</td>\n",
       "      <td>1.000000</td>\n",
       "      <td>0.037617</td>\n",
       "      <td>0.341226</td>\n",
       "      <td>-0.231211</td>\n",
       "      <td>NaN</td>\n",
       "      <td>0.048964</td>\n",
       "      <td>-0.016430</td>\n",
       "      <td>0.020126</td>\n",
       "      <td>0.888412</td>\n",
       "      <td>-0.005984</td>\n",
       "      <td>-0.001816</td>\n",
       "    </tr>\n",
       "    <tr>\n",
       "      <th>AMT_INCOME_TOTAL</th>\n",
       "      <td>-0.012722</td>\n",
       "      <td>0.037617</td>\n",
       "      <td>1.000000</td>\n",
       "      <td>0.070722</td>\n",
       "      <td>-0.166270</td>\n",
       "      <td>NaN</td>\n",
       "      <td>-0.033096</td>\n",
       "      <td>0.018423</td>\n",
       "      <td>0.092916</td>\n",
       "      <td>0.025476</td>\n",
       "      <td>-0.007374</td>\n",
       "      <td>0.011276</td>\n",
       "    </tr>\n",
       "    <tr>\n",
       "      <th>DAYS_BIRTH</th>\n",
       "      <td>0.053936</td>\n",
       "      <td>0.341226</td>\n",
       "      <td>0.070722</td>\n",
       "      <td>1.000000</td>\n",
       "      <td>-0.615963</td>\n",
       "      <td>NaN</td>\n",
       "      <td>0.178382</td>\n",
       "      <td>-0.025386</td>\n",
       "      <td>0.106993</td>\n",
       "      <td>0.303485</td>\n",
       "      <td>0.039646</td>\n",
       "      <td>-0.001785</td>\n",
       "    </tr>\n",
       "    <tr>\n",
       "      <th>DAYS_EMPLOYED</th>\n",
       "      <td>-0.038049</td>\n",
       "      <td>-0.231211</td>\n",
       "      <td>-0.166270</td>\n",
       "      <td>-0.615963</td>\n",
       "      <td>1.000000</td>\n",
       "      <td>NaN</td>\n",
       "      <td>-0.243647</td>\n",
       "      <td>-0.009989</td>\n",
       "      <td>-0.086149</td>\n",
       "      <td>-0.219322</td>\n",
       "      <td>0.002772</td>\n",
       "      <td>-0.000233</td>\n",
       "    </tr>\n",
       "    <tr>\n",
       "      <th>FLAG_MOBIL</th>\n",
       "      <td>NaN</td>\n",
       "      <td>NaN</td>\n",
       "      <td>NaN</td>\n",
       "      <td>NaN</td>\n",
       "      <td>NaN</td>\n",
       "      <td>NaN</td>\n",
       "      <td>NaN</td>\n",
       "      <td>NaN</td>\n",
       "      <td>NaN</td>\n",
       "      <td>NaN</td>\n",
       "      <td>NaN</td>\n",
       "      <td>NaN</td>\n",
       "    </tr>\n",
       "    <tr>\n",
       "      <th>FLAG_WORK_PHONE</th>\n",
       "      <td>0.080844</td>\n",
       "      <td>0.048964</td>\n",
       "      <td>-0.033096</td>\n",
       "      <td>0.178382</td>\n",
       "      <td>-0.243647</td>\n",
       "      <td>NaN</td>\n",
       "      <td>1.000000</td>\n",
       "      <td>0.314704</td>\n",
       "      <td>-0.032959</td>\n",
       "      <td>0.063232</td>\n",
       "      <td>0.000295</td>\n",
       "      <td>0.000329</td>\n",
       "    </tr>\n",
       "    <tr>\n",
       "      <th>FLAG_PHONE</th>\n",
       "      <td>0.013876</td>\n",
       "      <td>-0.016430</td>\n",
       "      <td>0.018423</td>\n",
       "      <td>-0.025386</td>\n",
       "      <td>-0.009989</td>\n",
       "      <td>NaN</td>\n",
       "      <td>0.314704</td>\n",
       "      <td>1.000000</td>\n",
       "      <td>0.013613</td>\n",
       "      <td>-0.004784</td>\n",
       "      <td>-0.007654</td>\n",
       "      <td>0.006381</td>\n",
       "    </tr>\n",
       "    <tr>\n",
       "      <th>FLAG_EMAIL</th>\n",
       "      <td>-0.047297</td>\n",
       "      <td>0.020126</td>\n",
       "      <td>0.092916</td>\n",
       "      <td>0.106993</td>\n",
       "      <td>-0.086149</td>\n",
       "      <td>NaN</td>\n",
       "      <td>-0.032959</td>\n",
       "      <td>0.013613</td>\n",
       "      <td>1.000000</td>\n",
       "      <td>0.018313</td>\n",
       "      <td>0.011755</td>\n",
       "      <td>0.004568</td>\n",
       "    </tr>\n",
       "    <tr>\n",
       "      <th>CNT_FAM_MEMBERS</th>\n",
       "      <td>0.022572</td>\n",
       "      <td>0.888412</td>\n",
       "      <td>0.025476</td>\n",
       "      <td>0.303485</td>\n",
       "      <td>-0.219322</td>\n",
       "      <td>NaN</td>\n",
       "      <td>0.063232</td>\n",
       "      <td>-0.004784</td>\n",
       "      <td>0.018313</td>\n",
       "      <td>1.000000</td>\n",
       "      <td>-0.014984</td>\n",
       "      <td>-0.005634</td>\n",
       "    </tr>\n",
       "    <tr>\n",
       "      <th>MONTHS_BALANCE</th>\n",
       "      <td>0.015520</td>\n",
       "      <td>-0.005984</td>\n",
       "      <td>-0.007374</td>\n",
       "      <td>0.039646</td>\n",
       "      <td>0.002772</td>\n",
       "      <td>NaN</td>\n",
       "      <td>0.000295</td>\n",
       "      <td>-0.007654</td>\n",
       "      <td>0.011755</td>\n",
       "      <td>-0.014984</td>\n",
       "      <td>1.000000</td>\n",
       "      <td>-0.017554</td>\n",
       "    </tr>\n",
       "    <tr>\n",
       "      <th>STATUS</th>\n",
       "      <td>0.013422</td>\n",
       "      <td>-0.001816</td>\n",
       "      <td>0.011276</td>\n",
       "      <td>-0.001785</td>\n",
       "      <td>-0.000233</td>\n",
       "      <td>NaN</td>\n",
       "      <td>0.000329</td>\n",
       "      <td>0.006381</td>\n",
       "      <td>0.004568</td>\n",
       "      <td>-0.005634</td>\n",
       "      <td>-0.017554</td>\n",
       "      <td>1.000000</td>\n",
       "    </tr>\n",
       "  </tbody>\n",
       "</table>\n",
       "</div>"
      ],
      "text/plain": [
       "                        ID  CNT_CHILDREN  AMT_INCOME_TOTAL  DAYS_BIRTH  \\\n",
       "ID                1.000000      0.026094         -0.012722    0.053936   \n",
       "CNT_CHILDREN      0.026094      1.000000          0.037617    0.341226   \n",
       "AMT_INCOME_TOTAL -0.012722      0.037617          1.000000    0.070722   \n",
       "DAYS_BIRTH        0.053936      0.341226          0.070722    1.000000   \n",
       "DAYS_EMPLOYED    -0.038049     -0.231211         -0.166270   -0.615963   \n",
       "FLAG_MOBIL             NaN           NaN               NaN         NaN   \n",
       "FLAG_WORK_PHONE   0.080844      0.048964         -0.033096    0.178382   \n",
       "FLAG_PHONE        0.013876     -0.016430          0.018423   -0.025386   \n",
       "FLAG_EMAIL       -0.047297      0.020126          0.092916    0.106993   \n",
       "CNT_FAM_MEMBERS   0.022572      0.888412          0.025476    0.303485   \n",
       "MONTHS_BALANCE    0.015520     -0.005984         -0.007374    0.039646   \n",
       "STATUS            0.013422     -0.001816          0.011276   -0.001785   \n",
       "\n",
       "                  DAYS_EMPLOYED  FLAG_MOBIL  FLAG_WORK_PHONE  FLAG_PHONE  \\\n",
       "ID                    -0.038049         NaN         0.080844    0.013876   \n",
       "CNT_CHILDREN          -0.231211         NaN         0.048964   -0.016430   \n",
       "AMT_INCOME_TOTAL      -0.166270         NaN        -0.033096    0.018423   \n",
       "DAYS_BIRTH            -0.615963         NaN         0.178382   -0.025386   \n",
       "DAYS_EMPLOYED          1.000000         NaN        -0.243647   -0.009989   \n",
       "FLAG_MOBIL                  NaN         NaN              NaN         NaN   \n",
       "FLAG_WORK_PHONE       -0.243647         NaN         1.000000    0.314704   \n",
       "FLAG_PHONE            -0.009989         NaN         0.314704    1.000000   \n",
       "FLAG_EMAIL            -0.086149         NaN        -0.032959    0.013613   \n",
       "CNT_FAM_MEMBERS       -0.219322         NaN         0.063232   -0.004784   \n",
       "MONTHS_BALANCE         0.002772         NaN         0.000295   -0.007654   \n",
       "STATUS                -0.000233         NaN         0.000329    0.006381   \n",
       "\n",
       "                  FLAG_EMAIL  CNT_FAM_MEMBERS  MONTHS_BALANCE    STATUS  \n",
       "ID                 -0.047297         0.022572        0.015520  0.013422  \n",
       "CNT_CHILDREN        0.020126         0.888412       -0.005984 -0.001816  \n",
       "AMT_INCOME_TOTAL    0.092916         0.025476       -0.007374  0.011276  \n",
       "DAYS_BIRTH          0.106993         0.303485        0.039646 -0.001785  \n",
       "DAYS_EMPLOYED      -0.086149        -0.219322        0.002772 -0.000233  \n",
       "FLAG_MOBIL               NaN              NaN             NaN       NaN  \n",
       "FLAG_WORK_PHONE    -0.032959         0.063232        0.000295  0.000329  \n",
       "FLAG_PHONE          0.013613        -0.004784       -0.007654  0.006381  \n",
       "FLAG_EMAIL          1.000000         0.018313        0.011755  0.004568  \n",
       "CNT_FAM_MEMBERS     0.018313         1.000000       -0.014984 -0.005634  \n",
       "MONTHS_BALANCE      0.011755        -0.014984        1.000000 -0.017554  \n",
       "STATUS              0.004568        -0.005634       -0.017554  1.000000  "
      ]
     },
     "execution_count": 36,
     "metadata": {},
     "output_type": "execute_result"
    }
   ],
   "source": [
    "df.corr()"
   ]
  },
  {
   "cell_type": "code",
   "execution_count": 37,
   "id": "12a747b7",
   "metadata": {},
   "outputs": [
    {
     "data": {
      "text/plain": [
       "0.0    32884\n",
       "1.0      226\n",
       "Name: STATUS, dtype: int64"
      ]
     },
     "execution_count": 37,
     "metadata": {},
     "output_type": "execute_result"
    }
   ],
   "source": [
    "df.STATUS.value_counts()"
   ]
  },
  {
   "cell_type": "code",
   "execution_count": 38,
   "id": "cd20c5b4",
   "metadata": {},
   "outputs": [
    {
     "data": {
      "text/plain": [
       "ID                     33110\n",
       "CODE_GENDER                2\n",
       "FLAG_OWN_CAR               2\n",
       "FLAG_OWN_REALTY            2\n",
       "CNT_CHILDREN               9\n",
       "AMT_INCOME_TOTAL         258\n",
       "NAME_INCOME_TYPE           5\n",
       "NAME_EDUCATION_TYPE        5\n",
       "NAME_FAMILY_STATUS         5\n",
       "NAME_HOUSING_TYPE          6\n",
       "DAYS_BIRTH              6960\n",
       "DAYS_EMPLOYED           3566\n",
       "FLAG_WORK_PHONE            2\n",
       "FLAG_PHONE                 2\n",
       "FLAG_EMAIL                 2\n",
       "CNT_FAM_MEMBERS           10\n",
       "MONTHS_BALANCE          2488\n",
       "STATUS                     2\n",
       "dtype: int64"
      ]
     },
     "execution_count": 38,
     "metadata": {},
     "output_type": "execute_result"
    }
   ],
   "source": [
    "df = df.drop(columns=['FLAG_MOBIL', 'OCCUPATION_TYPE'])\n",
    "df.nunique()"
   ]
  },
  {
   "cell_type": "code",
   "execution_count": 39,
   "id": "f78c82b8",
   "metadata": {},
   "outputs": [
    {
     "data": {
      "text/plain": [
       "0.0    32884\n",
       "1.0      226\n",
       "Name: STATUS, dtype: int64"
      ]
     },
     "execution_count": 39,
     "metadata": {},
     "output_type": "execute_result"
    }
   ],
   "source": [
    "df.STATUS.value_counts()"
   ]
  },
  {
   "cell_type": "code",
   "execution_count": 40,
   "id": "9d60ac67",
   "metadata": {},
   "outputs": [],
   "source": [
    "df['CODE_GENDER'].replace('M',0,inplace=True) #male -> 0\n",
    "df['CODE_GENDER'].replace('F',1,inplace=True)#female -> 1\n",
    "df['FLAG_OWN_CAR'].replace('Y',0,inplace=True)\n",
    "df['FLAG_OWN_CAR'].replace('N',1,inplace=True)\n",
    "df['FLAG_OWN_REALTY'].replace('Y',0,inplace=True)\n",
    "df['FLAG_OWN_REALTY'].replace('N',1,inplace=True)"
   ]
  },
  {
   "cell_type": "code",
   "execution_count": 41,
   "id": "00f7d640",
   "metadata": {},
   "outputs": [
    {
     "data": {
      "text/plain": [
       "Secondary            22554\n",
       "Higher education      8891\n",
       "Incomplete higher     1292\n",
       "Lower secondary        344\n",
       "Academic degree         29\n",
       "Name: NAME_EDUCATION_TYPE, dtype: int64"
      ]
     },
     "execution_count": 41,
     "metadata": {},
     "output_type": "execute_result"
    }
   ],
   "source": [
    "df.NAME_EDUCATION_TYPE = df.NAME_EDUCATION_TYPE.str.split('/').str[0]\n",
    "df.NAME_EDUCATION_TYPE.value_counts()"
   ]
  },
  {
   "cell_type": "code",
   "execution_count": 42,
   "id": "773ae9fe",
   "metadata": {},
   "outputs": [
    {
     "data": {
      "text/plain": [
       "Married           22725\n",
       "Single             4433\n",
       "Civil marriage     2656\n",
       "Separated          1908\n",
       "Widow              1388\n",
       "Name: NAME_FAMILY_STATUS, dtype: int64"
      ]
     },
     "execution_count": 42,
     "metadata": {},
     "output_type": "execute_result"
    }
   ],
   "source": [
    "df.NAME_FAMILY_STATUS = df.NAME_FAMILY_STATUS.str.split('/').str[0]\n",
    "df.NAME_FAMILY_STATUS.value_counts()"
   ]
  },
  {
   "cell_type": "code",
   "execution_count": 43,
   "id": "6af0a315",
   "metadata": {},
   "outputs": [
    {
     "data": {
      "text/plain": [
       "House                  29579\n",
       "With parents            1598\n",
       "Municipal apartment     1015\n",
       "Rented apartment         536\n",
       "Office apartment         242\n",
       "Co-op apartment          140\n",
       "Name: NAME_HOUSING_TYPE, dtype: int64"
      ]
     },
     "execution_count": 43,
     "metadata": {},
     "output_type": "execute_result"
    }
   ],
   "source": [
    "df.NAME_HOUSING_TYPE = df.NAME_HOUSING_TYPE.str.split('/').str[0]\n",
    "df.NAME_HOUSING_TYPE.value_counts()"
   ]
  },
  {
   "cell_type": "code",
   "execution_count": 44,
   "id": "8d5db647",
   "metadata": {},
   "outputs": [],
   "source": [
    "df['AGE']=-(df['DAYS_BIRTH'])//365\n",
    "\n",
    "df['EMPLOYEE_FROM_YEARS']=-(df['DAYS_EMPLOYED'])//365"
   ]
  },
  {
   "cell_type": "code",
   "execution_count": 45,
   "id": "151859ac",
   "metadata": {},
   "outputs": [
    {
     "data": {
      "text/html": [
       "<div>\n",
       "<style scoped>\n",
       "    .dataframe tbody tr th:only-of-type {\n",
       "        vertical-align: middle;\n",
       "    }\n",
       "\n",
       "    .dataframe tbody tr th {\n",
       "        vertical-align: top;\n",
       "    }\n",
       "\n",
       "    .dataframe thead th {\n",
       "        text-align: right;\n",
       "    }\n",
       "</style>\n",
       "<table border=\"1\" class=\"dataframe\">\n",
       "  <thead>\n",
       "    <tr style=\"text-align: right;\">\n",
       "      <th></th>\n",
       "      <th>ID</th>\n",
       "      <th>CODE_GENDER</th>\n",
       "      <th>FLAG_OWN_CAR</th>\n",
       "      <th>FLAG_OWN_REALTY</th>\n",
       "      <th>CNT_CHILDREN</th>\n",
       "      <th>AMT_INCOME_TOTAL</th>\n",
       "      <th>NAME_INCOME_TYPE</th>\n",
       "      <th>NAME_EDUCATION_TYPE</th>\n",
       "      <th>NAME_FAMILY_STATUS</th>\n",
       "      <th>NAME_HOUSING_TYPE</th>\n",
       "      <th>DAYS_BIRTH</th>\n",
       "      <th>DAYS_EMPLOYED</th>\n",
       "      <th>FLAG_WORK_PHONE</th>\n",
       "      <th>FLAG_PHONE</th>\n",
       "      <th>FLAG_EMAIL</th>\n",
       "      <th>CNT_FAM_MEMBERS</th>\n",
       "      <th>MONTHS_BALANCE</th>\n",
       "      <th>STATUS</th>\n",
       "      <th>AGE</th>\n",
       "      <th>EMPLOYEE_FROM_YEARS</th>\n",
       "    </tr>\n",
       "  </thead>\n",
       "  <tbody>\n",
       "    <tr>\n",
       "      <th>33105</th>\n",
       "      <td>5149828</td>\n",
       "      <td>0</td>\n",
       "      <td>0</td>\n",
       "      <td>0</td>\n",
       "      <td>0</td>\n",
       "      <td>315000.0</td>\n",
       "      <td>Working</td>\n",
       "      <td>Secondary</td>\n",
       "      <td>Married</td>\n",
       "      <td>House</td>\n",
       "      <td>-17348</td>\n",
       "      <td>-2420</td>\n",
       "      <td>0</td>\n",
       "      <td>0</td>\n",
       "      <td>0</td>\n",
       "      <td>2.0</td>\n",
       "      <td>-2.0</td>\n",
       "      <td>1.0</td>\n",
       "      <td>47</td>\n",
       "      <td>6</td>\n",
       "    </tr>\n",
       "    <tr>\n",
       "      <th>33106</th>\n",
       "      <td>5149834</td>\n",
       "      <td>1</td>\n",
       "      <td>1</td>\n",
       "      <td>0</td>\n",
       "      <td>0</td>\n",
       "      <td>157500.0</td>\n",
       "      <td>Commercial associate</td>\n",
       "      <td>Higher education</td>\n",
       "      <td>Married</td>\n",
       "      <td>House</td>\n",
       "      <td>-12387</td>\n",
       "      <td>-1325</td>\n",
       "      <td>0</td>\n",
       "      <td>1</td>\n",
       "      <td>1</td>\n",
       "      <td>2.0</td>\n",
       "      <td>-11.5</td>\n",
       "      <td>1.0</td>\n",
       "      <td>33</td>\n",
       "      <td>3</td>\n",
       "    </tr>\n",
       "    <tr>\n",
       "      <th>33107</th>\n",
       "      <td>5149838</td>\n",
       "      <td>1</td>\n",
       "      <td>1</td>\n",
       "      <td>0</td>\n",
       "      <td>0</td>\n",
       "      <td>157500.0</td>\n",
       "      <td>Pensioner</td>\n",
       "      <td>Higher education</td>\n",
       "      <td>Married</td>\n",
       "      <td>House</td>\n",
       "      <td>-12387</td>\n",
       "      <td>-1325</td>\n",
       "      <td>0</td>\n",
       "      <td>1</td>\n",
       "      <td>1</td>\n",
       "      <td>2.0</td>\n",
       "      <td>-16.0</td>\n",
       "      <td>1.0</td>\n",
       "      <td>33</td>\n",
       "      <td>3</td>\n",
       "    </tr>\n",
       "    <tr>\n",
       "      <th>33108</th>\n",
       "      <td>5150049</td>\n",
       "      <td>1</td>\n",
       "      <td>1</td>\n",
       "      <td>0</td>\n",
       "      <td>0</td>\n",
       "      <td>283500.0</td>\n",
       "      <td>Working</td>\n",
       "      <td>Secondary</td>\n",
       "      <td>Married</td>\n",
       "      <td>House</td>\n",
       "      <td>-17958</td>\n",
       "      <td>-655</td>\n",
       "      <td>0</td>\n",
       "      <td>0</td>\n",
       "      <td>0</td>\n",
       "      <td>2.0</td>\n",
       "      <td>-4.5</td>\n",
       "      <td>0.0</td>\n",
       "      <td>49</td>\n",
       "      <td>1</td>\n",
       "    </tr>\n",
       "    <tr>\n",
       "      <th>33109</th>\n",
       "      <td>5150337</td>\n",
       "      <td>0</td>\n",
       "      <td>1</td>\n",
       "      <td>0</td>\n",
       "      <td>0</td>\n",
       "      <td>112500.0</td>\n",
       "      <td>Working</td>\n",
       "      <td>Secondary</td>\n",
       "      <td>Single</td>\n",
       "      <td>Rented apartment</td>\n",
       "      <td>-9188</td>\n",
       "      <td>-1193</td>\n",
       "      <td>0</td>\n",
       "      <td>0</td>\n",
       "      <td>0</td>\n",
       "      <td>1.0</td>\n",
       "      <td>-6.5</td>\n",
       "      <td>0.0</td>\n",
       "      <td>25</td>\n",
       "      <td>3</td>\n",
       "    </tr>\n",
       "  </tbody>\n",
       "</table>\n",
       "</div>"
      ],
      "text/plain": [
       "            ID  CODE_GENDER  FLAG_OWN_CAR  FLAG_OWN_REALTY  CNT_CHILDREN  \\\n",
       "33105  5149828            0             0                0             0   \n",
       "33106  5149834            1             1                0             0   \n",
       "33107  5149838            1             1                0             0   \n",
       "33108  5150049            1             1                0             0   \n",
       "33109  5150337            0             1                0             0   \n",
       "\n",
       "       AMT_INCOME_TOTAL      NAME_INCOME_TYPE NAME_EDUCATION_TYPE  \\\n",
       "33105          315000.0               Working          Secondary    \n",
       "33106          157500.0  Commercial associate    Higher education   \n",
       "33107          157500.0             Pensioner    Higher education   \n",
       "33108          283500.0               Working          Secondary    \n",
       "33109          112500.0               Working          Secondary    \n",
       "\n",
       "      NAME_FAMILY_STATUS NAME_HOUSING_TYPE  DAYS_BIRTH  DAYS_EMPLOYED  \\\n",
       "33105            Married            House       -17348          -2420   \n",
       "33106            Married            House       -12387          -1325   \n",
       "33107            Married            House       -12387          -1325   \n",
       "33108            Married            House       -17958           -655   \n",
       "33109            Single   Rented apartment       -9188          -1193   \n",
       "\n",
       "       FLAG_WORK_PHONE  FLAG_PHONE  FLAG_EMAIL  CNT_FAM_MEMBERS  \\\n",
       "33105                0           0           0              2.0   \n",
       "33106                0           1           1              2.0   \n",
       "33107                0           1           1              2.0   \n",
       "33108                0           0           0              2.0   \n",
       "33109                0           0           0              1.0   \n",
       "\n",
       "       MONTHS_BALANCE  STATUS  AGE  EMPLOYEE_FROM_YEARS  \n",
       "33105            -2.0     1.0   47                    6  \n",
       "33106           -11.5     1.0   33                    3  \n",
       "33107           -16.0     1.0   33                    3  \n",
       "33108            -4.5     0.0   49                    1  \n",
       "33109            -6.5     0.0   25                    3  "
      ]
     },
     "execution_count": 45,
     "metadata": {},
     "output_type": "execute_result"
    }
   ],
   "source": [
    "df.tail()"
   ]
  },
  {
   "cell_type": "code",
   "execution_count": 46,
   "id": "c2658ab2",
   "metadata": {},
   "outputs": [
    {
     "data": {
      "text/plain": [
       "<AxesSubplot:xlabel='STATUS', ylabel='AMT_INCOME_TOTAL'>"
      ]
     },
     "execution_count": 46,
     "metadata": {},
     "output_type": "execute_result"
    },
    {
     "data": {
      "image/png": "[encoded data removed]",
      "text/plain": [
       "<Figure size 1080x216 with 1 Axes>"
      ]
     },
     "metadata": {},
     "output_type": "display_data"
    }
   ],
   "source": [
    "sns.set(rc={'figure.figsize':(15,3)})\n",
    "sns.scatterplot(df.STATUS,df.AMT_INCOME_TOTAL)"
   ]
  },
  {
   "cell_type": "code",
   "execution_count": 47,
   "id": "ac320326",
   "metadata": {},
   "outputs": [
    {
     "data": {
      "text/plain": [
       "<AxesSubplot:>"
      ]
     },
     "execution_count": 47,
     "metadata": {},
     "output_type": "execute_result"
    },
    {
     "data": {
      "image/png": "[encoded data removed]",
      "text/plain": [
       "<Figure size 1080x216 with 1 Axes>"
      ]
     },
     "metadata": {},
     "output_type": "display_data"
    }
   ],
   "source": [
    "df.NAME_INCOME_TYPE.value_counts().plot(kind='bar')"
   ]
  },
  {
   "cell_type": "code",
   "execution_count": 48,
   "id": "95a2263c",
   "metadata": {},
   "outputs": [
    {
     "data": {
      "text/plain": [
       "<AxesSubplot:ylabel='Frequency'>"
      ]
     },
     "execution_count": 48,
     "metadata": {},
     "output_type": "execute_result"
    },
    {
     "data": {
      "image/png": "[encoded data removed]",
      "text/plain": [
       "<Figure size 1080x216 with 1 Axes>"
      ]
     },
     "metadata": {},
     "output_type": "display_data"
    }
   ],
   "source": [
    "df['AGE'].plot(kind='hist',bins=30,density=True)"
   ]
  },
  {
   "cell_type": "code",
   "execution_count": 49,
   "id": "7746e8c9",
   "metadata": {},
   "outputs": [
    {
     "data": {
      "text/plain": [
       "Working                 17077\n",
       "Commercial associate     7627\n",
       "Pensioner                5659\n",
       "State servant            2736\n",
       "Student                    11\n",
       "Name: NAME_INCOME_TYPE, dtype: int64"
      ]
     },
     "execution_count": 49,
     "metadata": {},
     "output_type": "execute_result"
    }
   ],
   "source": [
    "df.NAME_INCOME_TYPE.value_counts()"
   ]
  },
  {
   "cell_type": "code",
   "execution_count": 50,
   "id": "164e2cf4",
   "metadata": {},
   "outputs": [
    {
     "data": {
      "text/plain": [
       "<AxesSubplot:xlabel='NAME_INCOME_TYPE', ylabel='count'>"
      ]
     },
     "execution_count": 50,
     "metadata": {},
     "output_type": "execute_result"
    },
    {
     "data": {
      "image/png": "[encoded data removed]",
      "text/plain": [
       "<Figure size 1080x216 with 1 Axes>"
      ]
     },
     "metadata": {},
     "output_type": "display_data"
    }
   ],
   "source": [
    "sns.countplot(x='NAME_INCOME_TYPE',hue='FLAG_OWN_CAR',data=df)"
   ]
  },
  {
   "cell_type": "code",
   "execution_count": 51,
   "id": "c32e8d83",
   "metadata": {},
   "outputs": [
    {
     "data": {
      "image/png": "[encoded data removed]",
      "text/plain": [
       "<Figure size 1080x216 with 1 Axes>"
      ]
     },
     "metadata": {},
     "output_type": "display_data"
    }
   ],
   "source": [
    "sns.set(rc={'figure.figsize':(15,3)})\n",
    "plt.xticks(fontsize=10,rotation='vertical')\n",
    "p=sns.countplot(df['NAME_INCOME_TYPE'],hue_order=df.groupby('NAME_INCOME_TYPE'))\n",
    "p.axes.set_title(\"Amount of income per type\")\n",
    "plt.show()"
   ]
  },
  {
   "cell_type": "markdown",
   "id": "b97a557c",
   "metadata": {},
   "source": [
    "### Correlation using Heatmap"
   ]
  },
  {
   "cell_type": "code",
   "execution_count": 52,
   "id": "86f42d20",
   "metadata": {},
   "outputs": [
    {
     "data": {
      "image/png": "[encoded data removed]",
      "text/plain": [
       "<Figure size 1080x720 with 2 Axes>"
      ]
     },
     "metadata": {},
     "output_type": "display_data"
    }
   ],
   "source": [
    "plt.figure(figsize = (15,10))\n",
    "sns.heatmap(df.corr(), annot = True )\n",
    "plt.title('Correlation between the Features', size = 16)\n",
    "plt.show()"
   ]
  },
  {
   "cell_type": "markdown",
   "id": "570013df",
   "metadata": {},
   "source": [
    "- feature for this dataset is Status"
   ]
  },
  {
   "cell_type": "code",
   "execution_count": null,
   "id": "1afd7a81",
   "metadata": {},
   "outputs": [],
   "source": []
  }
 ],
 "metadata": {
  "kernelspec": {
   "display_name": "Python 3 (ipykernel)",
   "language": "python",
   "name": "python3"
  },
  "language_info": {
   "codemirror_mode": {
    "name": "ipython",
    "version": 3
   },
   "file_extension": ".py",
   "mimetype": "text/x-python",
   "name": "python",
   "nbconvert_exporter": "python",
   "pygments_lexer": "ipython3",
   "version": "3.9.12"
  }
 },
 "nbformat": 4,
 "nbformat_minor": 5
}
